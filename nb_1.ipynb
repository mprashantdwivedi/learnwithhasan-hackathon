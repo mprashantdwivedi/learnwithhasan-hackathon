{
 "metadata": {
  "language_info": {
   "codemirror_mode": {
    "name": "ipython",
    "version": 3
   },
   "file_extension": ".py",
   "mimetype": "text/x-python",
   "name": "python",
   "nbconvert_exporter": "python",
   "pygments_lexer": "ipython3",
   "version": "3.7.4-final"
  },
  "orig_nbformat": 2,
  "kernelspec": {
   "name": "python3",
   "display_name": "Python 3"
  }
 },
 "nbformat": 4,
 "nbformat_minor": 2,
 "cells": [
  {
   "source": [
    "### Image Preprocessing"
   ],
   "cell_type": "markdown",
   "metadata": {}
  },
  {
   "cell_type": "code",
   "execution_count": 1,
   "metadata": {},
   "outputs": [],
   "source": [
    "import os \n",
    "from pathlib import Path \n",
    "import pandas as pd\n",
    "import matplotlib.pyplot as plt  "
   ]
  },
  {
   "cell_type": "code",
   "execution_count": 76,
   "metadata": {},
   "outputs": [],
   "source": [
    "def generate_csv_from_dirs(path, filename):\n",
    "    dirs = path.glob('*')\n",
    "    data = []\n",
    "    labels = []\n",
    "\n",
    "    for sub_dir in dirs:\n",
    "        label = str(sub_dir).split('\\\\')[-1]\n",
    "        print(f'label name : {label}')\n",
    "        print(f'label path : {sub_dir}')\n",
    "\n",
    "        cnt = 0\n",
    "\n",
    "        # selecting all the images in sub_dir\n",
    "        for img_path in sub_dir.glob('*.jpg'):\n",
    "            # print(str(img_path))\n",
    "            data.append(str(img_path))\n",
    "            labels.append(label)\n",
    "        \n",
    "        dict = {'file': img_path, 'label':labels}\n",
    "        print(f'dir length : {len(data)}')\n",
    "\n",
    "        df = pd.DataFrame(dict)\n",
    "        df.to_csv(f'{filename}.csv', header=True, index=False)\n",
    "\n",
    "    \n",
    "\n",
    "\n"
   ]
  },
  {
   "cell_type": "code",
   "execution_count": 81,
   "metadata": {},
   "outputs": [],
   "source": [
    "path = Path('./Data/train/')\n",
    "filename = 'train_data'"
   ]
  },
  {
   "cell_type": "code",
   "execution_count": 82,
   "metadata": {},
   "outputs": [
    {
     "output_type": "stream",
     "name": "stdout",
     "text": [
      "label name : ng\nlabel path : Data\\train\\ng\ndir length : 39\nlabel name : ok\nlabel path : Data\\train\\ok\ndir length : 132\n"
     ]
    }
   ],
   "source": [
    "generate_csv_from_dirs(path, filename)"
   ]
  },
  {
   "cell_type": "code",
   "execution_count": null,
   "metadata": {},
   "outputs": [],
   "source": []
  },
  {
   "cell_type": "code",
   "execution_count": null,
   "metadata": {},
   "outputs": [],
   "source": []
  },
  {
   "cell_type": "code",
   "execution_count": null,
   "metadata": {},
   "outputs": [],
   "source": []
  }
 ]
}